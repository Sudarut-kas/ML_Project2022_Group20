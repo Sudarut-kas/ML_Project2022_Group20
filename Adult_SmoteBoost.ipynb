{
  "nbformat": 4,
  "nbformat_minor": 0,
  "metadata": {
    "colab": {
      "name": "Adult-SmoteBoost.ipynb",
      "provenance": [],
      "collapsed_sections": [
        "2ua7-744412Z",
        "oLiGsVW_MEw6",
        "IX6ul_En48Qv",
        "WAv0okHQQ3qL",
        "aNI0pZERNY7_",
        "jmPi1fZE5F0x",
        "DqBw8TyIq_HI",
        "2g7sqg_SVTga",
        "KVZ6XiQ_XFiA"
      ]
    },
    "kernelspec": {
      "name": "python3",
      "display_name": "Python 3"
    },
    "language_info": {
      "name": "python"
    }
  },
  "cells": [
    {
      "cell_type": "markdown",
      "source": [
        "[![Open In Colab](https://colab.research.google.com/assets/colab-badge.svg)](https://colab.research.google.com/drive/1LmdtTS9wXp-aqUSvjVMwtTV6NYQ2GvLX?authuser=2#scrollTo=Jj9vgLmBdPuq)"
      ],
      "metadata": {
        "id": "Jj9vgLmBdPuq"
      }
    },
    {
      "cell_type": "markdown",
      "source": [
        "##Import"
      ],
      "metadata": {
        "id": "aCuJa1NH4d8U"
      }
    },
    {
      "cell_type": "code",
      "execution_count": null,
      "metadata": {
        "id": "hIba4xPTorHc"
      },
      "outputs": [],
      "source": [
        "import numpy as np\n",
        "import pandas as pd\n",
        "%matplotlib inline\n",
        "import matplotlib.pyplot as plt\n",
        "from sklearn.ensemble import AdaBoostClassifier\n",
        "from sklearn.model_selection import train_test_split\n",
        "from sklearn.metrics import precision_score\n",
        "from sklearn.metrics import recall_score\n",
        "from sklearn.neighbors import NearestNeighbors\n",
        "from sklearn.tree import DecisionTreeClassifier\n",
        "from sklearn.metrics import f1_score\n",
        "from sklearn.preprocessing import normalize\n",
        "from collections import Counter\n",
        "from sklearn.preprocessing import StandardScaler\n",
        "from sklearn.metrics import confusion_matrix, balanced_accuracy_score, accuracy_score\n",
        "\n",
        "pd.set_option('display.max_columns', 500)\n",
        "\n",
        "import warnings\n",
        "warnings.filterwarnings(\"ignore\")"
      ]
    },
    {
      "cell_type": "markdown",
      "source": [
        "##Class SMOTE & SMOTEBoost"
      ],
      "metadata": {
        "id": "2ua7-744412Z"
      }
    },
    {
      "cell_type": "code",
      "source": [
        "from numpy.ma.core import count\n",
        "class SMOTE():\n",
        "\n",
        "    def __init__(self, n_samples, k_neighbors=5, random_state=None):\n",
        "        self.n_samples = n_samples\n",
        "        self.k = k_neighbors\n",
        "        self.random_state = random_state\n",
        "\n",
        "    def sample(self):\n",
        "      np.random.seed(seed=self.random_state)\n",
        "      S = np.zeros(shape=(self.n_samples, self.n_features))\n",
        "      \n",
        "      for i in range(self.n_samples):\n",
        "        j = np.random.randint(0, self.X.shape[0])\n",
        "        X_reshape = self.X[j].reshape(1, -1)\n",
        "        new_neighbor = self.neigh.kneighbors(X_reshape, return_distance=False)\n",
        "        new_neighbor = new_neighbor[:, 1:]\n",
        "        nn_index = np.random.choice(new_neighbor[0])\n",
        "        distance = self.X[nn_index] - self.X[j]\n",
        "        fraction = np.random.random() \n",
        "        S[i, :] = self.X[j, :] + fraction * distance[:]       \n",
        "      return S\n",
        "\n",
        "    def fit(self, X):\n",
        "        self.X = X\n",
        "        self.n_minority, self.n_features = self.X.shape\n",
        "        self.neigh = NearestNeighbors(n_neighbors=self.k + 1) \n",
        "        self.neigh.fit(self.X)\n",
        "        return self\n",
        "\n",
        "#----------------------------------------------------------------------------------------------------------#\n",
        "\n",
        "class SMOTEBoost():\n",
        "    \n",
        "    def __init__(self, base_classifier = None, n_samples = 100, n_estimators = 50, k_neighbors = 5, random_state = 42):\n",
        "        self.base_classifier = base_classifier\n",
        "        self.n_samples = n_samples\n",
        "        self.n_estimators = n_estimators\n",
        "        self.k_neighbors = k_neighbors\n",
        "        self.random_state = random_state\n",
        "        \n",
        "    def fit(self, X, y):     \n",
        "        distribution = np.ones(X.shape[0], dtype=float) / X.shape[0]\n",
        "        self.classifiers = []\n",
        "        self.beta = []\n",
        "\n",
        "        for i in range(self.n_estimators):\n",
        "            minority_class = min(Counter(y), key=Counter(y).get)\n",
        "            X_min = X[np.where(y == minority_class)]\n",
        "\n",
        "            self.classifiers.append(self.base_classifier())\n",
        "            self.smote = SMOTE(n_samples=self.n_samples, k_neighbors=self.k_neighbors, random_state=self.random_state)\n",
        "            self.smote.fit(X_min)\n",
        "            X_syn = self.smote.sample()\n",
        "            y_syn = np.full(X_syn.shape[0], fill_value=minority_class, dtype=np.int64)\n",
        "\n",
        "            distribution_syn = np.empty(X_syn.shape[0], dtype=np.float64)\n",
        "            distribution_syn[:] = 1. / X.shape[0]\n",
        "            mod_distribution = np.append(distribution, distribution_syn).reshape(1, -1)\n",
        "            mod_distribution = np.squeeze(normalize(mod_distribution, axis=1, norm='l1'))\n",
        "\n",
        "            mod_X = np.vstack((X, X_syn))\n",
        "            mod_y = np.append(y, y_syn) \n",
        "\n",
        "            self.classifiers[-1].fit(mod_X, mod_y, sample_weight=mod_distribution)\n",
        "\n",
        "            y_pred_t = self.classifiers[-1].predict(X)\n",
        "            \n",
        "            eps_t = np.sum((1 - (y == y_pred_t) +(np.logical_not(y) == y_pred_t)) * distribution)\n",
        "            beta_t = eps_t/(1-eps_t)\n",
        "            w_t = 0.5 * (1 + (y == y_pred_t) - (np.logical_not(y) == y_pred_t))\n",
        "            \n",
        "            self.beta.append(beta_t)\n",
        "            \n",
        "            distribution = distribution * beta_t ** w_t / np.sum(distribution)\n",
        "        \n",
        "    def predict(self, X):\n",
        "        final_pred = np.zeros((X.shape[0], 2))\n",
        "        for beta, clf in zip(self.beta, self.classifiers):\n",
        "            yp = clf.predict(X)\n",
        "            final_pred[range(len(X)), yp] += np.log(1/beta)\n",
        "        final_pred = np.argmax(final_pred,axis=1)\n",
        "        return final_pred"
      ],
      "metadata": {
        "id": "lE3Hnm3dpTAx"
      },
      "execution_count": null,
      "outputs": []
    },
    {
      "cell_type": "markdown",
      "source": [
        "##Calculate Score"
      ],
      "metadata": {
        "id": "oLiGsVW_MEw6"
      }
    },
    {
      "cell_type": "code",
      "source": [
        "def score_model(y_true, y_pred, protect):\n",
        "\n",
        "  y_true_p, y_true_np = [], []\n",
        "  y_pred_p, y_pred_np = [], []\n",
        "  \n",
        "  for y_true_i, y_pred_i, protect_i in zip(y_true, y_pred, protect):\n",
        "    if protect_i == 1:\n",
        "      y_true_p.append(y_true_i)\n",
        "      y_pred_p.append(y_pred_i)\n",
        "    elif protect_i == 0:\n",
        "      y_true_np.append(y_true_i)\n",
        "      y_pred_np.append(y_pred_i)\n",
        "    else:\n",
        "      return 0,0,0,0\n",
        "\n",
        "  y_true_p = np.array(y_true_p)\n",
        "  y_true_np = np.array(y_true_np)\n",
        "  y_pred_p = np.array(y_pred_p)\n",
        "  y_pred_np = np.array(y_pred_np)\n",
        "\n",
        "  tp_p = confusion_matrix(y_true_p, y_pred_p)[1][1]\n",
        "  tn_p = confusion_matrix(y_true_p, y_pred_p)[0][0]\n",
        "  fp_p = confusion_matrix(y_true_p, y_pred_p)[0][1]\n",
        "  fn_p = confusion_matrix(y_true_p, y_pred_p)[1][0]\n",
        "\n",
        "  fpr_p = fp_p / (fp_p + tn_p)\n",
        "  fnr_p = fn_p / (fn_p + tp_p)\n",
        "\n",
        "        \n",
        "  tp_np = confusion_matrix(y_true_np, y_pred_np)[1][1]\n",
        "  tn_np = confusion_matrix(y_true_np, y_pred_np)[0][0]\n",
        "  fp_np = confusion_matrix(y_true_np, y_pred_np)[0][1]\n",
        "  fn_np = confusion_matrix(y_true_np, y_pred_np)[1][0]\n",
        "\n",
        "  fpr_np = fp_np / (fp_np + tn_np)\n",
        "  fnr_np = fn_np / (fn_np + tp_np)\n",
        "\n",
        "  diff_fnr = fnr_np - fnr_p\n",
        "  diff_fpr = fpr_np - fpr_p\n",
        "\n",
        "  # Scores\n",
        "  EqOdds = abs(diff_fpr) + abs(diff_fnr)\n",
        "  TPR_protect = 1 - fnr_p\n",
        "  TPR_non_protect = 1 - fnr_np\n",
        "  TNR_protect = 1 - fpr_p\n",
        "  TNR_non_protect = 1 - fpr_np\n",
        "\n",
        "  return (EqOdds, TPR_protect, TPR_non_protect, TNR_protect, TNR_non_protect)"
      ],
      "metadata": {
        "id": "ezARyLQsMHhL"
      },
      "execution_count": null,
      "outputs": []
    },
    {
      "cell_type": "markdown",
      "source": [
        "## Dataset: Adult Census Income"
      ],
      "metadata": {
        "id": "IX6ul_En48Qv"
      }
    },
    {
      "cell_type": "code",
      "source": [
        "df_adult = pd.read_csv('adult.csv')\n",
        "\n",
        "# Delete NaN\n",
        "df_adult.replace('?', np.nan, inplace=True)\n",
        "df_adult.dropna(axis=0, inplace=True)\n",
        "\n",
        "# Delete col fnlwgt\n",
        "df_adult.drop('fnlwgt', axis=1, inplace=True)\n",
        "\n",
        "# Define target value\n",
        "df_adult['income'].replace('<=50K', 0, inplace=True)\n",
        "df_adult['income'].replace('>50K', 1, inplace=True)\n",
        "\n",
        "# Define X, y\n",
        "y = df_adult['income']\n",
        "X = df_adult.drop('income', axis=1)\n",
        "\n",
        "# Covert values to 0, 1\n",
        "X['sex'].replace('Male', 0, inplace=True)\n",
        "X['sex'].replace('Female', 1, inplace=True)\n",
        "\n",
        "# Get Dummy\n",
        "X = pd.get_dummies(X)\n",
        "\n",
        "#Scale\n",
        "col_num_adult = ['age',\t'education.num',\t'capital.gain',\t'capital.loss',\t'hours.per.week']\n",
        "scaler = StandardScaler()\n",
        "scaler.fit(X[col_num_adult])\n",
        "X[col_num_adult] = scaler.transform(X[col_num_adult])"
      ],
      "metadata": {
        "id": "M50hHUwug_8y"
      },
      "execution_count": null,
      "outputs": []
    },
    {
      "cell_type": "markdown",
      "source": [
        "##Train_Test_Split"
      ],
      "metadata": {
        "id": "WAv0okHQQ3qL"
      }
    },
    {
      "cell_type": "code",
      "source": [
        "X_train, X_test, y_train, y_test = train_test_split(X, y, test_size=0.3, random_state=42)"
      ],
      "metadata": {
        "id": "EDA_DJSQl7nS"
      },
      "execution_count": null,
      "outputs": []
    },
    {
      "cell_type": "markdown",
      "source": [
        "##Protect"
      ],
      "metadata": {
        "id": "aNI0pZERNY7_"
      }
    },
    {
      "cell_type": "code",
      "source": [
        "# Protected sex (Female)\n",
        "train_p = []\n",
        "sum=0\n",
        "\n",
        "for i in range(len(X_train)):\n",
        "  if X_train.iloc[i]['sex'] == 1:\n",
        "    train_p.append(1)\n",
        "  else:\n",
        "    train_p.append(0)\n",
        "\n",
        "train_p = np.array(train_p)\n",
        "\n",
        "test_p = []\n",
        "for i in range(len(X_test)):\n",
        "  if X_test.iloc[i]['sex'] == 1:\n",
        "    test_p.append(1)\n",
        "  else:\n",
        "    test_p.append(0)\n",
        "\n",
        "test_p = np.array(test_p)\n",
        "\n",
        "X_train = X_train.values\n",
        "X_test = X_test.values\n",
        "y_train = y_train.values\n",
        "y_test = y_test.values"
      ],
      "metadata": {
        "id": "0_6z7NI5MUzT"
      },
      "execution_count": null,
      "outputs": []
    },
    {
      "cell_type": "markdown",
      "source": [
        "##Model SMOTEBoost"
      ],
      "metadata": {
        "id": "jmPi1fZE5F0x"
      }
    },
    {
      "cell_type": "code",
      "source": [
        "test_base_clf = lambda: DecisionTreeClassifier(max_depth=5)\n",
        "smoteboost_test = SMOTEBoost(base_classifier = test_base_clf,n_samples=500, n_estimators=10, k_neighbors=5, random_state=42) \n",
        "smoteboost_test.fit(X_train, y_train)\n",
        "y_pred_sb = smoteboost_test.predict(X_test)"
      ],
      "metadata": {
        "id": "NxktXr-mmA1x"
      },
      "execution_count": null,
      "outputs": []
    },
    {
      "cell_type": "markdown",
      "source": [
        "##Model Adaboost"
      ],
      "metadata": {
        "id": "DqBw8TyIq_HI"
      }
    },
    {
      "cell_type": "code",
      "source": [
        "adaboost = AdaBoostClassifier(DecisionTreeClassifier(max_depth=5), algorithm=\"SAMME\", n_estimators=10)\n",
        "adaboost.fit(X_train, y_train)\n",
        "y_pred_ad = adaboost.predict(X_test)"
      ],
      "metadata": {
        "id": "1ihki8EMrBGp"
      },
      "execution_count": null,
      "outputs": []
    },
    {
      "cell_type": "markdown",
      "source": [
        "##SMOTEBoost Score"
      ],
      "metadata": {
        "id": "2g7sqg_SVTga"
      }
    },
    {
      "cell_type": "code",
      "source": [
        "EqOdd, TPR_P, TPR_NP, TNR_P, TNR_NP = [], [], [], [], []\n",
        "Bal_acc, Acc = [], []\n",
        "\n",
        "bal_score = balanced_accuracy_score(y_test, y_pred_sb)\n",
        "accu_score = accuracy_score(y_test, y_pred_sb)\n",
        "EqOdds, TPR_protect, TPR_non_protect, TNR_protect, TNR_non_protect = score_model(y_test, y_pred_sb, test_p)\n",
        "\n",
        "Bal_acc.append(bal_score)\n",
        "Acc.append(accu_score)\n",
        "EqOdd.append(EqOdds)\n",
        "TPR_P.append(TPR_protect)\n",
        "TPR_NP.append(TPR_non_protect)\n",
        "TNR_P.append(TNR_protect)\n",
        "TNR_NP.append(TNR_non_protect)"
      ],
      "metadata": {
        "id": "vn_OHnM6VVmO"
      },
      "execution_count": null,
      "outputs": []
    },
    {
      "cell_type": "markdown",
      "source": [
        "##Adaboost Score"
      ],
      "metadata": {
        "id": "KVZ6XiQ_XFiA"
      }
    },
    {
      "cell_type": "code",
      "source": [
        "bal_score = balanced_accuracy_score(y_test, y_pred_ad)\n",
        "accu_score = accuracy_score(y_test, y_pred_ad)\n",
        "EqOdds, TPR_protect, TPR_non_protect, TNR_protect, TNR_non_protect = score_model(y_test, y_pred_ad, test_p)\n",
        "\n",
        "Bal_acc.append(bal_score)\n",
        "Acc.append(accu_score)\n",
        "EqOdd.append(EqOdds)\n",
        "TPR_P.append(TPR_protect)\n",
        "TPR_NP.append(TPR_non_protect)\n",
        "TNR_P.append(TNR_protect)\n",
        "TNR_NP.append(TNR_non_protect)"
      ],
      "metadata": {
        "id": "qM7NzUPMXNHc"
      },
      "execution_count": null,
      "outputs": []
    },
    {
      "cell_type": "markdown",
      "source": [
        "##Table Scores"
      ],
      "metadata": {
        "id": "1FYqfQgpSD3J"
      }
    },
    {
      "cell_type": "code",
      "source": [
        "table = pd.DataFrame({'Bal': Bal_acc, 'Accuracy':Acc,\n",
        "                      'EqOdds': EqOdd,'TPR_P':TPR_P ,\n",
        "                      'TPR_NP': TPR_NP,'TNR_P':TNR_P,\n",
        "                      'TNR_NP': TNR_NP},\n",
        "                     \n",
        "                     index = ['SMOTEBoost', 'Adaboost'])\n",
        "\n",
        "table"
      ],
      "metadata": {
        "colab": {
          "base_uri": "https://localhost:8080/",
          "height": 112
        },
        "id": "48rt6SD8a1na",
        "outputId": "0e976143-4c29-47b8-e088-1cb3e474e298"
      },
      "execution_count": null,
      "outputs": [
        {
          "output_type": "execute_result",
          "data": {
            "text/plain": [
              "                 Bal  Accuracy    EqOdds     TPR_P    TPR_NP     TNR_P  \\\n",
              "SMOTEBoost  0.826008  0.818212  0.404213  0.686567  0.868367  0.950602   \n",
              "Adaboost    0.788953  0.843629  0.314016  0.516418  0.705612  0.978715   \n",
              "\n",
              "              TNR_NP  \n",
              "SMOTEBoost  0.728189  \n",
              "Adaboost    0.853893  "
            ],
            "text/html": [
              "\n",
              "  <div id=\"df-92de39da-9f12-4acd-b55f-c8ccda611289\">\n",
              "    <div class=\"colab-df-container\">\n",
              "      <div>\n",
              "<style scoped>\n",
              "    .dataframe tbody tr th:only-of-type {\n",
              "        vertical-align: middle;\n",
              "    }\n",
              "\n",
              "    .dataframe tbody tr th {\n",
              "        vertical-align: top;\n",
              "    }\n",
              "\n",
              "    .dataframe thead th {\n",
              "        text-align: right;\n",
              "    }\n",
              "</style>\n",
              "<table border=\"1\" class=\"dataframe\">\n",
              "  <thead>\n",
              "    <tr style=\"text-align: right;\">\n",
              "      <th></th>\n",
              "      <th>Bal</th>\n",
              "      <th>Accuracy</th>\n",
              "      <th>EqOdds</th>\n",
              "      <th>TPR_P</th>\n",
              "      <th>TPR_NP</th>\n",
              "      <th>TNR_P</th>\n",
              "      <th>TNR_NP</th>\n",
              "    </tr>\n",
              "  </thead>\n",
              "  <tbody>\n",
              "    <tr>\n",
              "      <th>SMOTEBoost</th>\n",
              "      <td>0.826008</td>\n",
              "      <td>0.818212</td>\n",
              "      <td>0.404213</td>\n",
              "      <td>0.686567</td>\n",
              "      <td>0.868367</td>\n",
              "      <td>0.950602</td>\n",
              "      <td>0.728189</td>\n",
              "    </tr>\n",
              "    <tr>\n",
              "      <th>Adaboost</th>\n",
              "      <td>0.788953</td>\n",
              "      <td>0.843629</td>\n",
              "      <td>0.314016</td>\n",
              "      <td>0.516418</td>\n",
              "      <td>0.705612</td>\n",
              "      <td>0.978715</td>\n",
              "      <td>0.853893</td>\n",
              "    </tr>\n",
              "  </tbody>\n",
              "</table>\n",
              "</div>\n",
              "      <button class=\"colab-df-convert\" onclick=\"convertToInteractive('df-92de39da-9f12-4acd-b55f-c8ccda611289')\"\n",
              "              title=\"Convert this dataframe to an interactive table.\"\n",
              "              style=\"display:none;\">\n",
              "        \n",
              "  <svg xmlns=\"http://www.w3.org/2000/svg\" height=\"24px\"viewBox=\"0 0 24 24\"\n",
              "       width=\"24px\">\n",
              "    <path d=\"M0 0h24v24H0V0z\" fill=\"none\"/>\n",
              "    <path d=\"M18.56 5.44l.94 2.06.94-2.06 2.06-.94-2.06-.94-.94-2.06-.94 2.06-2.06.94zm-11 1L8.5 8.5l.94-2.06 2.06-.94-2.06-.94L8.5 2.5l-.94 2.06-2.06.94zm10 10l.94 2.06.94-2.06 2.06-.94-2.06-.94-.94-2.06-.94 2.06-2.06.94z\"/><path d=\"M17.41 7.96l-1.37-1.37c-.4-.4-.92-.59-1.43-.59-.52 0-1.04.2-1.43.59L10.3 9.45l-7.72 7.72c-.78.78-.78 2.05 0 2.83L4 21.41c.39.39.9.59 1.41.59.51 0 1.02-.2 1.41-.59l7.78-7.78 2.81-2.81c.8-.78.8-2.07 0-2.86zM5.41 20L4 18.59l7.72-7.72 1.47 1.35L5.41 20z\"/>\n",
              "  </svg>\n",
              "      </button>\n",
              "      \n",
              "  <style>\n",
              "    .colab-df-container {\n",
              "      display:flex;\n",
              "      flex-wrap:wrap;\n",
              "      gap: 12px;\n",
              "    }\n",
              "\n",
              "    .colab-df-convert {\n",
              "      background-color: #E8F0FE;\n",
              "      border: none;\n",
              "      border-radius: 50%;\n",
              "      cursor: pointer;\n",
              "      display: none;\n",
              "      fill: #1967D2;\n",
              "      height: 32px;\n",
              "      padding: 0 0 0 0;\n",
              "      width: 32px;\n",
              "    }\n",
              "\n",
              "    .colab-df-convert:hover {\n",
              "      background-color: #E2EBFA;\n",
              "      box-shadow: 0px 1px 2px rgba(60, 64, 67, 0.3), 0px 1px 3px 1px rgba(60, 64, 67, 0.15);\n",
              "      fill: #174EA6;\n",
              "    }\n",
              "\n",
              "    [theme=dark] .colab-df-convert {\n",
              "      background-color: #3B4455;\n",
              "      fill: #D2E3FC;\n",
              "    }\n",
              "\n",
              "    [theme=dark] .colab-df-convert:hover {\n",
              "      background-color: #434B5C;\n",
              "      box-shadow: 0px 1px 3px 1px rgba(0, 0, 0, 0.15);\n",
              "      filter: drop-shadow(0px 1px 2px rgba(0, 0, 0, 0.3));\n",
              "      fill: #FFFFFF;\n",
              "    }\n",
              "  </style>\n",
              "\n",
              "      <script>\n",
              "        const buttonEl =\n",
              "          document.querySelector('#df-92de39da-9f12-4acd-b55f-c8ccda611289 button.colab-df-convert');\n",
              "        buttonEl.style.display =\n",
              "          google.colab.kernel.accessAllowed ? 'block' : 'none';\n",
              "\n",
              "        async function convertToInteractive(key) {\n",
              "          const element = document.querySelector('#df-92de39da-9f12-4acd-b55f-c8ccda611289');\n",
              "          const dataTable =\n",
              "            await google.colab.kernel.invokeFunction('convertToInteractive',\n",
              "                                                     [key], {});\n",
              "          if (!dataTable) return;\n",
              "\n",
              "          const docLinkHtml = 'Like what you see? Visit the ' +\n",
              "            '<a target=\"_blank\" href=https://colab.research.google.com/notebooks/data_table.ipynb>data table notebook</a>'\n",
              "            + ' to learn more about interactive tables.';\n",
              "          element.innerHTML = '';\n",
              "          dataTable['output_type'] = 'display_data';\n",
              "          await google.colab.output.renderOutput(dataTable, element);\n",
              "          const docLink = document.createElement('div');\n",
              "          docLink.innerHTML = docLinkHtml;\n",
              "          element.appendChild(docLink);\n",
              "        }\n",
              "      </script>\n",
              "    </div>\n",
              "  </div>\n",
              "  "
            ]
          },
          "metadata": {},
          "execution_count": 94
        }
      ]
    }
  ]
}